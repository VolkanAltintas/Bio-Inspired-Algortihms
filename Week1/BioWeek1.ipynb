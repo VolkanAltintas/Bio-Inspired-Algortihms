{
  "nbformat": 4,
  "nbformat_minor": 0,
  "metadata": {
    "colab": {
      "provenance": [],
      "authorship_tag": "ABX9TyMPs+I4m3JFt3M5OnvpIsyH"
    },
    "kernelspec": {
      "name": "python3",
      "display_name": "Python 3"
    },
    "language_info": {
      "name": "python"
    }
  },
  "cells": [
    {
      "cell_type": "code",
      "execution_count": 19,
      "metadata": {
        "colab": {
          "base_uri": "https://localhost:8080/"
        },
        "id": "hZ-WYseicskc",
        "outputId": "256098ea-a724-48fe-da33-983f1614a57f"
      },
      "outputs": [
        {
          "output_type": "stream",
          "name": "stdout",
          "text": [
            "2\n",
            "Hello World\n"
          ]
        }
      ],
      "source": [
        "x='2'\n",
        "y=4\n",
        "z=4.5\n",
        "text=\"Hello World\"\n",
        "\n",
        "print(x)\n",
        "print(text)"
      ]
    },
    {
      "cell_type": "code",
      "source": [
        "type(z)"
      ],
      "metadata": {
        "colab": {
          "base_uri": "https://localhost:8080/"
        },
        "id": "AjlFtUOqe-Ih",
        "outputId": "ab2fd406-536a-47f1-e4c1-d3cee3b9fec4"
      },
      "execution_count": 20,
      "outputs": [
        {
          "output_type": "execute_result",
          "data": {
            "text/plain": [
              "float"
            ]
          },
          "metadata": {},
          "execution_count": 20
        }
      ]
    },
    {
      "cell_type": "code",
      "source": [
        "x=y=3\n",
        "print(x,y)"
      ],
      "metadata": {
        "colab": {
          "base_uri": "https://localhost:8080/"
        },
        "id": "upmnuduAdZt0",
        "outputId": "c35947e6-3c81-438c-95bb-aa706e0724cd"
      },
      "execution_count": 3,
      "outputs": [
        {
          "output_type": "stream",
          "name": "stdout",
          "text": [
            "3 3\n"
          ]
        }
      ]
    },
    {
      "cell_type": "code",
      "source": [
        "5+7"
      ],
      "metadata": {
        "colab": {
          "base_uri": "https://localhost:8080/"
        },
        "id": "fgBa9k00dkm5",
        "outputId": "25e03321-2147-440d-e934-809bb0c1d835"
      },
      "execution_count": 4,
      "outputs": [
        {
          "output_type": "execute_result",
          "data": {
            "text/plain": [
              "12"
            ]
          },
          "metadata": {},
          "execution_count": 4
        }
      ]
    },
    {
      "cell_type": "code",
      "source": [
        "54%5"
      ],
      "metadata": {
        "colab": {
          "base_uri": "https://localhost:8080/"
        },
        "id": "JvhRHVDAdmxd",
        "outputId": "ed1ffc09-41e8-4e59-9ece-5c17d61b03b4"
      },
      "execution_count": 5,
      "outputs": [
        {
          "output_type": "execute_result",
          "data": {
            "text/plain": [
              "4"
            ]
          },
          "metadata": {},
          "execution_count": 5
        }
      ]
    },
    {
      "cell_type": "code",
      "source": [
        "a=1\n",
        "print(a==1)\n",
        "print(a>5)"
      ],
      "metadata": {
        "colab": {
          "base_uri": "https://localhost:8080/"
        },
        "id": "DhJJjjBKdscP",
        "outputId": "e888c94e-3ed8-4f05-ee80-4166c2f82dd7"
      },
      "execution_count": 8,
      "outputs": [
        {
          "output_type": "stream",
          "name": "stdout",
          "text": [
            "True\n",
            "False\n"
          ]
        }
      ]
    },
    {
      "cell_type": "code",
      "source": [
        "(a==1) or (a>0)"
      ],
      "metadata": {
        "colab": {
          "base_uri": "https://localhost:8080/"
        },
        "id": "OZEbLcxEeEK_",
        "outputId": "44884d15-7384-4c5c-e406-5e8e6e876fc9"
      },
      "execution_count": 10,
      "outputs": [
        {
          "output_type": "execute_result",
          "data": {
            "text/plain": [
              "True"
            ]
          },
          "metadata": {},
          "execution_count": 10
        }
      ]
    },
    {
      "cell_type": "code",
      "source": [
        "print(round(5.65789))\n",
        "print(round(5.65789,2))\n",
        "print(round(5.0369))"
      ],
      "metadata": {
        "colab": {
          "base_uri": "https://localhost:8080/"
        },
        "id": "pkzKi51weSen",
        "outputId": "c9da2f95-8948-44a6-bd5f-3a1aabc0004f"
      },
      "execution_count": 13,
      "outputs": [
        {
          "output_type": "stream",
          "name": "stdout",
          "text": [
            "6\n",
            "5.66\n",
            "5\n"
          ]
        }
      ]
    },
    {
      "cell_type": "code",
      "source": [
        "print(\"Manisa Celal Bayar University\")"
      ],
      "metadata": {
        "colab": {
          "base_uri": "https://localhost:8080/"
        },
        "id": "qdWsY9RQf5Fc",
        "outputId": "6d109240-4971-4cf2-de2f-bd6e5225156c"
      },
      "execution_count": 22,
      "outputs": [
        {
          "output_type": "stream",
          "name": "stdout",
          "text": [
            "Manisa Celal Bayar University\n"
          ]
        }
      ]
    },
    {
      "cell_type": "code",
      "source": [
        "print('''Manisa\n",
        "Celal Bayar University''')"
      ],
      "metadata": {
        "colab": {
          "base_uri": "https://localhost:8080/"
        },
        "id": "eogAi4zWf_vQ",
        "outputId": "b76071c9-bc89-4696-ddec-2d999fc52f7f"
      },
      "execution_count": 23,
      "outputs": [
        {
          "output_type": "stream",
          "name": "stdout",
          "text": [
            "Manisa\n",
            "Celal Bayar University\n"
          ]
        }
      ]
    },
    {
      "cell_type": "code",
      "source": [
        "data=input(\"Enter text....\")"
      ],
      "metadata": {
        "colab": {
          "base_uri": "https://localhost:8080/"
        },
        "id": "XmM2CgJNet26",
        "outputId": "745ba6f0-64b6-495b-9c3c-7b66e568ce24"
      },
      "execution_count": 14,
      "outputs": [
        {
          "name": "stdout",
          "output_type": "stream",
          "text": [
            "Enter text....Hello World\n"
          ]
        }
      ]
    },
    {
      "cell_type": "code",
      "source": [
        "def sum(x,y):\n",
        "  return x+y\n",
        "\n",
        "print(sum(3,5))\n"
      ],
      "metadata": {
        "colab": {
          "base_uri": "https://localhost:8080/"
        },
        "id": "n5ZrydwnfWaX",
        "outputId": "71fcf76b-4e5f-48a8-dea9-304552ec0e07"
      },
      "execution_count": 21,
      "outputs": [
        {
          "output_type": "stream",
          "name": "stdout",
          "text": [
            "8\n"
          ]
        }
      ]
    },
    {
      "cell_type": "code",
      "source": [
        "thing=['Computer','TV','Telephone']\n",
        "print(thing)"
      ],
      "metadata": {
        "colab": {
          "base_uri": "https://localhost:8080/"
        },
        "id": "5SiXS206gQEZ",
        "outputId": "11361a7b-b4d8-4564-91d5-a461689c02f3"
      },
      "execution_count": 26,
      "outputs": [
        {
          "output_type": "stream",
          "name": "stdout",
          "text": [
            "['Computer', 'TV', 'Telephone']\n"
          ]
        }
      ]
    },
    {
      "cell_type": "code",
      "source": [
        "print(thing[2])\n",
        "print(thing[0])\n",
        "print(thing[-1])"
      ],
      "metadata": {
        "colab": {
          "base_uri": "https://localhost:8080/"
        },
        "id": "mVVjqfxIg28t",
        "outputId": "01c044fa-91a5-4499-8b43-bc11f3d5ea7d"
      },
      "execution_count": 29,
      "outputs": [
        {
          "output_type": "stream",
          "name": "stdout",
          "text": [
            "Telephone\n",
            "Computer\n",
            "Telephone\n"
          ]
        }
      ]
    },
    {
      "cell_type": "code",
      "source": [
        "bList=[\"Monitor\",\"Keyboard\",\"Mouse\"]"
      ],
      "metadata": {
        "id": "IMTfPnFKhMf2"
      },
      "execution_count": 30,
      "outputs": []
    },
    {
      "cell_type": "code",
      "source": [
        "cList=[thing,bList]\n",
        "print(cList)"
      ],
      "metadata": {
        "colab": {
          "base_uri": "https://localhost:8080/"
        },
        "id": "81cawxGVhY7P",
        "outputId": "b141c9ff-d6e4-43db-a2de-140464c3962f"
      },
      "execution_count": 31,
      "outputs": [
        {
          "output_type": "stream",
          "name": "stdout",
          "text": [
            "[['Computer', 'TV', 'Telephone'], ['Monitor', 'Keyboard', 'Mouse']]\n"
          ]
        }
      ]
    },
    {
      "cell_type": "code",
      "source": [
        "print(cList[0])\n",
        "print(cList[0][2])\n",
        "print(cList[1][2])"
      ],
      "metadata": {
        "colab": {
          "base_uri": "https://localhost:8080/"
        },
        "id": "hnza2FCfhlop",
        "outputId": "acd533cc-1e6b-48cd-91d6-746552305ece"
      },
      "execution_count": 35,
      "outputs": [
        {
          "output_type": "stream",
          "name": "stdout",
          "text": [
            "['Computer', 'TV', 'Telephone']\n",
            "Telephone\n",
            "Mouse\n"
          ]
        }
      ]
    },
    {
      "cell_type": "code",
      "source": [
        "number=[1,2,3,4,5]"
      ],
      "metadata": {
        "id": "6k7W9jAoh_R8"
      },
      "execution_count": 36,
      "outputs": []
    },
    {
      "cell_type": "code",
      "source": [
        "print(number[:])\n",
        "print(number[2:])\n",
        "print(number[:2])\n",
        "print(number[1:4])"
      ],
      "metadata": {
        "colab": {
          "base_uri": "https://localhost:8080/"
        },
        "id": "IQsSLppOiFn_",
        "outputId": "6ae61959-c9dd-4a45-885f-4485d3427fb7"
      },
      "execution_count": 40,
      "outputs": [
        {
          "output_type": "stream",
          "name": "stdout",
          "text": [
            "[1, 2, 3, 4, 5]\n",
            "[3, 4, 5]\n",
            "[1, 2]\n",
            "[2, 3, 4]\n"
          ]
        }
      ]
    },
    {
      "cell_type": "code",
      "source": [
        "len(number)"
      ],
      "metadata": {
        "colab": {
          "base_uri": "https://localhost:8080/"
        },
        "id": "R-gVVFJ-ivO_",
        "outputId": "37555cc8-6bfe-4338-aa1c-365d36c1664b"
      },
      "execution_count": 41,
      "outputs": [
        {
          "output_type": "execute_result",
          "data": {
            "text/plain": [
              "5"
            ]
          },
          "metadata": {},
          "execution_count": 41
        }
      ]
    },
    {
      "cell_type": "code",
      "source": [
        "print(number[-2])"
      ],
      "metadata": {
        "colab": {
          "base_uri": "https://localhost:8080/"
        },
        "id": "bT-d61e3jP_-",
        "outputId": "224a943a-e88c-48f0-f377-7913fe287310"
      },
      "execution_count": 42,
      "outputs": [
        {
          "output_type": "stream",
          "name": "stdout",
          "text": [
            "4\n"
          ]
        }
      ]
    },
    {
      "cell_type": "code",
      "source": [
        "names=['Ali','Ayşe','Gökhan','Ahmet','Fatma','Aslı']\n",
        "type(names)"
      ],
      "metadata": {
        "colab": {
          "base_uri": "https://localhost:8080/"
        },
        "id": "XmwoA9LIjWst",
        "outputId": "f2b98cce-bbdc-4a34-d49e-c41f2a159056"
      },
      "execution_count": 43,
      "outputs": [
        {
          "output_type": "execute_result",
          "data": {
            "text/plain": [
              "list"
            ]
          },
          "metadata": {},
          "execution_count": 43
        }
      ]
    },
    {
      "cell_type": "code",
      "source": [
        "max(names)"
      ],
      "metadata": {
        "colab": {
          "base_uri": "https://localhost:8080/",
          "height": 35
        },
        "id": "I5sX4YVpjpkS",
        "outputId": "078c02f1-8872-4dc8-c0c7-353cbcd33078"
      },
      "execution_count": 45,
      "outputs": [
        {
          "output_type": "execute_result",
          "data": {
            "text/plain": [
              "'Gökhan'"
            ],
            "application/vnd.google.colaboratory.intrinsic+json": {
              "type": "string"
            }
          },
          "metadata": {},
          "execution_count": 45
        }
      ]
    },
    {
      "cell_type": "code",
      "source": [
        "min(names)"
      ],
      "metadata": {
        "colab": {
          "base_uri": "https://localhost:8080/",
          "height": 35
        },
        "id": "SVXhKGRVj9US",
        "outputId": "7fa5d60b-a6d8-49fd-959a-9b48faed0bc0"
      },
      "execution_count": 46,
      "outputs": [
        {
          "output_type": "execute_result",
          "data": {
            "text/plain": [
              "'Ahmet'"
            ],
            "application/vnd.google.colaboratory.intrinsic+json": {
              "type": "string"
            }
          },
          "metadata": {},
          "execution_count": 46
        }
      ]
    },
    {
      "cell_type": "code",
      "source": [
        "\"Ahmet\" in names"
      ],
      "metadata": {
        "colab": {
          "base_uri": "https://localhost:8080/"
        },
        "id": "cjPBSk6bkHC1",
        "outputId": "b9563db9-b7dc-488e-d53a-bbb58b441274"
      },
      "execution_count": 49,
      "outputs": [
        {
          "output_type": "execute_result",
          "data": {
            "text/plain": [
              "True"
            ]
          },
          "metadata": {},
          "execution_count": 49
        }
      ]
    },
    {
      "cell_type": "code",
      "source": [
        "lst=[1,2,3,4,5,6]"
      ],
      "metadata": {
        "id": "UMCFfFPSkvDb"
      },
      "execution_count": 50,
      "outputs": []
    },
    {
      "cell_type": "code",
      "source": [
        "lst.append(7)"
      ],
      "metadata": {
        "id": "FtRUplLdk1r-"
      },
      "execution_count": 56,
      "outputs": []
    },
    {
      "cell_type": "code",
      "source": [
        "lst"
      ],
      "metadata": {
        "colab": {
          "base_uri": "https://localhost:8080/"
        },
        "id": "xpxzaq2Tk5qT",
        "outputId": "b71528a0-0976-4e22-83ca-d9611d698690"
      },
      "execution_count": 57,
      "outputs": [
        {
          "output_type": "execute_result",
          "data": {
            "text/plain": [
              "[1, 2, 3, 4, 5, 6, 7, 7, 7, 7, 7]"
            ]
          },
          "metadata": {},
          "execution_count": 57
        }
      ]
    },
    {
      "cell_type": "code",
      "source": [
        "lst.count(7)"
      ],
      "metadata": {
        "colab": {
          "base_uri": "https://localhost:8080/"
        },
        "id": "7LRcAeXPlBgt",
        "outputId": "45b6db1b-4c7f-4376-dd8b-ff8360d645ff"
      },
      "execution_count": 58,
      "outputs": [
        {
          "output_type": "execute_result",
          "data": {
            "text/plain": [
              "5"
            ]
          },
          "metadata": {},
          "execution_count": 58
        }
      ]
    },
    {
      "cell_type": "code",
      "source": [
        "lst1=[8,9,10]"
      ],
      "metadata": {
        "id": "K8WmL2eWlMi1"
      },
      "execution_count": 59,
      "outputs": []
    },
    {
      "cell_type": "code",
      "source": [
        "lst.extend(lst1)"
      ],
      "metadata": {
        "id": "RdGBkuajlRbr"
      },
      "execution_count": 60,
      "outputs": []
    },
    {
      "cell_type": "code",
      "source": [
        "lst"
      ],
      "metadata": {
        "colab": {
          "base_uri": "https://localhost:8080/"
        },
        "id": "usEXDQk8lXQJ",
        "outputId": "0080872e-90c5-45ad-c4ff-5ddb62f12609"
      },
      "execution_count": 61,
      "outputs": [
        {
          "output_type": "execute_result",
          "data": {
            "text/plain": [
              "[1, 2, 3, 4, 5, 6, 7, 7, 7, 7, 7, 8, 9, 10]"
            ]
          },
          "metadata": {},
          "execution_count": 61
        }
      ]
    },
    {
      "cell_type": "code",
      "source": [
        "lst.insert(2,0)\n",
        "lst"
      ],
      "metadata": {
        "colab": {
          "base_uri": "https://localhost:8080/"
        },
        "id": "j3Z4FTmdlcrr",
        "outputId": "d63e718a-93d7-4d08-d31c-81b33f230711"
      },
      "execution_count": 63,
      "outputs": [
        {
          "output_type": "execute_result",
          "data": {
            "text/plain": [
              "[1, 2, 0, 3, 4, 5, 6, 7, 7, 7, 7, 7, 8, 9, 10]"
            ]
          },
          "metadata": {},
          "execution_count": 63
        }
      ]
    },
    {
      "cell_type": "code",
      "source": [
        "del lst[2]"
      ],
      "metadata": {
        "id": "ih6gI-EjlzTZ"
      },
      "execution_count": 64,
      "outputs": []
    },
    {
      "cell_type": "code",
      "source": [
        "lst"
      ],
      "metadata": {
        "colab": {
          "base_uri": "https://localhost:8080/"
        },
        "id": "sMhVgFQ8l5Qs",
        "outputId": "335133b8-db73-4f78-b0b1-67278355da01"
      },
      "execution_count": 65,
      "outputs": [
        {
          "output_type": "execute_result",
          "data": {
            "text/plain": [
              "[1, 2, 3, 4, 5, 6, 7, 7, 7, 7, 7, 8, 9, 10]"
            ]
          },
          "metadata": {},
          "execution_count": 65
        }
      ]
    },
    {
      "cell_type": "code",
      "source": [
        "text=\"Manisa Celal Bayar Üniversitesi\"\n",
        "print(text[0:6])"
      ],
      "metadata": {
        "colab": {
          "base_uri": "https://localhost:8080/"
        },
        "id": "gLJYDdhsmCb-",
        "outputId": "079133fc-be44-46ed-de7d-9fc7971a1440"
      },
      "execution_count": 68,
      "outputs": [
        {
          "output_type": "stream",
          "name": "stdout",
          "text": [
            "Manisa\n"
          ]
        }
      ]
    },
    {
      "cell_type": "code",
      "source": [
        "print(text.find('Celal',0,6))"
      ],
      "metadata": {
        "colab": {
          "base_uri": "https://localhost:8080/"
        },
        "id": "puh3QwXnmaUc",
        "outputId": "dbce91fd-cac7-4f89-c2cb-1eebffb5c5e8"
      },
      "execution_count": 71,
      "outputs": [
        {
          "output_type": "stream",
          "name": "stdout",
          "text": [
            "-1\n"
          ]
        }
      ]
    },
    {
      "cell_type": "code",
      "source": [
        "print(text.capitalize())\n",
        "print(text.lower())\n",
        "print(text.upper())\n",
        "print(text.upper().count('a'))"
      ],
      "metadata": {
        "colab": {
          "base_uri": "https://localhost:8080/"
        },
        "id": "DxAygSKbmy39",
        "outputId": "b25ea7fe-1516-42eb-c125-38dbf9df7244"
      },
      "execution_count": 81,
      "outputs": [
        {
          "output_type": "stream",
          "name": "stdout",
          "text": [
            "Manisa celal bayar üniversitesi\n",
            "manisa celal bayar üniversitesi\n",
            "MANISA CELAL BAYAR ÜNIVERSITESI\n",
            "0\n"
          ]
        }
      ]
    },
    {
      "cell_type": "code",
      "source": [
        "print(text.replace('Üniversitesi', 'University'))"
      ],
      "metadata": {
        "colab": {
          "base_uri": "https://localhost:8080/"
        },
        "id": "8Gx2nCcEnbF1",
        "outputId": "62e31ef0-3e7e-42ff-d0d5-32b50bd67835"
      },
      "execution_count": 82,
      "outputs": [
        {
          "output_type": "stream",
          "name": "stdout",
          "text": [
            "Manisa Celal Bayar University\n"
          ]
        }
      ]
    },
    {
      "cell_type": "code",
      "source": [
        "ex='              Hello World      '\n",
        "print(ex)"
      ],
      "metadata": {
        "colab": {
          "base_uri": "https://localhost:8080/"
        },
        "id": "T1XUqCRgnoQZ",
        "outputId": "6a5e4635-5728-4441-84ca-9866a479a6d8"
      },
      "execution_count": 83,
      "outputs": [
        {
          "output_type": "stream",
          "name": "stdout",
          "text": [
            "              Hello World      \n"
          ]
        }
      ]
    },
    {
      "cell_type": "code",
      "source": [
        "print(ex.strip())"
      ],
      "metadata": {
        "colab": {
          "base_uri": "https://localhost:8080/"
        },
        "id": "jE5xRu76nwbr",
        "outputId": "ccd598ea-00b0-4cbc-eb88-2e85f1c68a8f"
      },
      "execution_count": 84,
      "outputs": [
        {
          "output_type": "stream",
          "name": "stdout",
          "text": [
            "Hello World\n"
          ]
        }
      ]
    }
  ]
}